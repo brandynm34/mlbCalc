{
 "cells": [
  {
   "cell_type": "markdown",
   "metadata": {},
   "source": [
    "# Practice grapping stats"
   ]
  },
  {
   "cell_type": "code",
   "execution_count": 2,
   "metadata": {
    "collapsed": true
   },
   "outputs": [],
   "source": [
    "## from __future__ import print_function\n",
    "import mlbgame\n",
    "import datetime\n",
    "from pprint import pprint  #pretty print"
   ]
  },
  {
   "cell_type": "markdown",
   "metadata": {},
   "source": [
    "### games function (also an input)\n",
    "games(years, months=None, days=None, home=None, away=None)\n",
    "combine_games(games)\n",
    "\n",
    "### graps game id given game day\n",
    "game.game_id"
   ]
  },
  {
   "cell_type": "code",
   "execution_count": 4,
   "metadata": {},
   "outputs": [
    {
     "name": "stdout",
     "output_type": "stream",
     "text": [
      "White Sox (5) at Dodgers (2)\n",
      "Nationals (6) at Mets (0)\n",
      "Twins (1) at Pirates (4)\n",
      "Cardinals (3) at Astros (2)\n",
      "Mets (5) at Marlins (0)\n",
      "Royals (10) at Athletics (3)\n",
      "Mariners (2) at Padres (12)\n",
      "Phillies (7) at Blue Jays (1)\n",
      "Reds (2) at Giants (14)\n",
      "Red Sox (11) at Orioles (9)\n",
      "Angels (4) at D-backs (2)\n",
      "Rockies (5) at Rangers (6)\n",
      "Cubs (3) at Indians (4)\n",
      "Tigers (3) at Braves (11)\n"
     ]
    }
   ],
   "source": [
    "## all games in one day\n",
    "days = mlbgame.games(2017, 3, 27)\n",
    "games = mlbgame.combine_games(days)\n",
    "\n",
    "for day in games:\n",
    "    print(day)"
   ]
  },
  {
   "cell_type": "code",
   "execution_count": 117,
   "metadata": {},
   "outputs": [
    {
     "name": "stdout",
     "output_type": "stream",
     "text": [
      "Brewers (2) at Mets (1)\n",
      "Pirates (12) at Mets (7)\n",
      "Pirates (2) at Mets (4)\n",
      "Pirates (11) at Mets (1)\n",
      "Cubs (1) at Mets (6)\n",
      "Cubs (14) at Mets (3)\n",
      "Cubs (4) at Mets (9)\n",
      "Nationals (8) at Mets (3)\n",
      "Nationals (7) at Mets (2)\n",
      "Nationals (7) at Mets (4)\n",
      "Nationals (1) at Mets (5)\n",
      "Phillies (1) at Mets (2)\n"
     ]
    }
   ],
   "source": [
    "# games in that month\n",
    "# first ones takes too long, inclues training games\n",
    "# month = mlbgame.games(2018, 3, away='Giants')\n",
    "# games = mlbgame.combine_games(month)\n",
    "\n",
    "# for i in games:\n",
    "#     print(i)\n",
    "# print('print next function')  \n",
    "\n",
    "month2 = mlbgame.games(2017, 6, home='Mets')  \n",
    "games2 = mlbgame.combine_games(month2)\n",
    "\n",
    "for game in games2:\n",
    "    print(game)"
   ]
  },
  {
   "cell_type": "markdown",
   "metadata": {},
   "source": [
    "### day function \n",
    "day(year, month, day, home=None, away=None)\n",
    "    Return a list of games for a certain day.\n",
    "    If the home and away team are the same, it will return the game(s) for that team.\n",
    "    "
   ]
  },
  {
   "cell_type": "code",
   "execution_count": 8,
   "metadata": {},
   "outputs": [
    {
     "name": "stdout",
     "output_type": "stream",
     "text": [
      "Winning pitcher: Y. Ventura (Royals) - Losing Pitcher: C. Wilson (Angels)\n"
     ]
    }
   ],
   "source": [
    "day = mlbgame.day(2015, 4, 12, home='Royals', away='Royals')\n",
    "\n",
    "game = day[0] ##because an object in an array\n",
    "\n",
    "output = 'Winning pitcher: %s (%s) - Losing Pitcher: %s (%s)'\n",
    "\n",
    "print(output % (game.w_pitcher, game.w_team, game.l_pitcher, game.l_team))"
   ]
  },
  {
   "cell_type": "markdown",
   "metadata": {},
   "source": [
    "### player_stats function\n",
    "\n",
    "Return list players/coaches/umpires for game matching the game id.\n",
    "\n",
    "player_stats(game_id) => {'away_additional_batting', 'away_additional_pitching', 'away_batting', 'away_pitching', 'game_id', 'home_additional_batting', 'home_additional_pitching', 'home_batting', 'home_pitching'}"
   ]
  },
  {
   "cell_type": "code",
   "execution_count": 9,
   "metadata": {},
   "outputs": [
    {
     "name": "stdout",
     "output_type": "stream",
     "text": [
      "Royals (7) at Mets (2)\n",
      "['__class__', '__delattr__', '__dict__', '__dir__', '__doc__', '__eq__', '__format__', '__ge__', '__getattribute__', '__gt__', '__hash__', '__init__', '__le__', '__lt__', '__module__', '__ne__', '__new__', '__reduce__', '__reduce_ex__', '__repr__', '__setattr__', '__sizeof__', '__str__', '__subclasshook__', '__weakref__', 'away_additional_batting', 'away_additional_pitching', 'away_batting', 'away_pitching', 'game_id', 'home_additional_batting', 'home_additional_pitching', 'home_batting', 'home_pitching']\n",
      "Curtis Granderson (RF)\n",
      "David Wright (3B)\n",
      "Daniel Murphy (2B)\n",
      "Yoenis Cespedes (CF)\n",
      "Juan Lagares (CF)\n",
      "Lucas Duda (1B)\n",
      "Travis d'Arnaud (C)\n",
      "Michael Conforto (LF)\n",
      "Wilmer Flores (SS)\n",
      "Matt Harvey (P)\n",
      "Jeurys Familia (P)\n",
      "Kelly Johnson (PH)\n",
      "Jonathon Niese (P)\n",
      "Addison Reed (P)\n",
      "Bartolo Colon (P)\n"
     ]
    }
   ],
   "source": [
    "game = mlbgame.day(2015, 11, 1, home='Mets')[0]\n",
    "print(game)\n",
    "stats = mlbgame.player_stats(game.game_id)\n",
    "print(dir(stats))\n",
    "for player in stats.home_batting:\n",
    "    print(player)\n"
   ]
  },
  {
   "cell_type": "code",
   "execution_count": 3,
   "metadata": {},
   "outputs": [
    {
     "name": "stdout",
     "output_type": "stream",
     "text": [
      "2015_11_01_kcamlb_nynmlb_1\n"
     ]
    }
   ],
   "source": [
    "print (game.game_id)"
   ]
  },
  {
   "cell_type": "markdown",
   "metadata": {},
   "source": [
    "### box_score\n",
    "An object that prints {inning:$, 'home': # of points in tht inning, 'away': # of points they got}"
   ]
  },
  {
   "cell_type": "code",
   "execution_count": 9,
   "metadata": {},
   "outputs": [
    {
     "name": "stdout",
     "output_type": "stream",
     "text": [
      "{'inning': 1, 'home': 1, 'away': 0}\n",
      "{'inning': 2, 'home': 0, 'away': 0}\n",
      "{'inning': 3, 'home': 0, 'away': 0}\n",
      "{'inning': 4, 'home': 0, 'away': 0}\n",
      "{'inning': 5, 'home': 0, 'away': 0}\n",
      "{'inning': 6, 'home': 1, 'away': 0}\n",
      "{'inning': 7, 'home': 0, 'away': 0}\n",
      "{'inning': 8, 'home': 0, 'away': 0}\n",
      "{'inning': 9, 'home': 0, 'away': 2}\n",
      "{'inning': 10, 'home': 0, 'away': 0}\n",
      "{'inning': 11, 'home': 0, 'away': 0}\n",
      "{'inning': 12, 'home': 0, 'away': 5}\n"
     ]
    }
   ],
   "source": [
    "for inningScore in mlbgame.box_score(game.game_id):\n",
    "    print (inningScore)"
   ]
  },
  {
   "cell_type": "code",
   "execution_count": 118,
   "metadata": {
    "collapsed": true
   },
   "outputs": [],
   "source": [
    "# g = dir(mlbgame.standings(date=datetime.datetime.now()))\n",
    "# print(g)\n",
    "#print(dir(mlbgame.standings(date=datetime.datetime.now()).divisions[0].teams[0]))"
   ]
  },
  {
   "cell_type": "markdown",
   "metadata": {},
   "source": [
    "### In standing object\n",
    "\n",
    "standings ->standings_schedule_date -> string that that says \"standings_schedule_date\" \n",
    "          -> teams -> -> away, clinched_sw, division, division_champ, division_id, deivision_odds, elin, \n",
    "                 elim_wildcard, extra_inn, file_code, gb, gb_wildcard, home, interleague, is_wild_sw, l, last_ten, \n",
    "                 one_run, opp_runs, pct, place, 'playoff_odds', 'playoff_points_sw','playoffs_flag_milb', \n",
    "                 playoffs_flag_mlb, playoffs_sw,'points', 'runs', 'sit_code', 'streak', 'team_abbrev', \n",
    "                 team_full, team_id, team_short, 'vs_central','vs_division', 'vs_east','vs_left', \n",
    "                 vs_right, vs_west, w, wild_card,'wildcard_odds','x_wl','x_wl_seas'"
   ]
  },
  {
   "cell_type": "code",
   "execution_count": 47,
   "metadata": {},
   "outputs": [
    {
     "name": "stdout",
     "output_type": "stream",
     "text": [
      "division name NL Central\n",
      "team name: Milwaukee Brewers\n",
      "team name: Pittsburgh Pirates\n",
      "team name: Chicago Cubs\n",
      "team name: St. Louis Cardinals\n",
      "team name: Cincinnati Reds\n",
      "division name NL East\n",
      "team name: Washington Nationals\n",
      "team name: Atlanta Braves\n",
      "team name: New York Mets\n",
      "team name: Miami Marlins\n",
      "team name: Philadelphia Phillies\n",
      "division name NL West\n",
      "team name: Arizona Diamondbacks\n",
      "team name: Los Angeles Dodgers\n",
      "team name: San Francisco Giants\n",
      "team name: Colorado Rockies\n",
      "team name: San Diego Padres\n",
      "division name AL East\n",
      "team name: Boston Red Sox\n",
      "team name: New York Yankees\n",
      "team name: Toronto Blue Jays\n",
      "team name: Baltimore Orioles\n",
      "team name: Tampa Bay Rays\n",
      "division name AL Central\n",
      "team name: Chicago White Sox\n",
      "team name: Minnesota Twins\n",
      "team name: Cleveland Indians\n",
      "team name: Kansas City Royals\n",
      "team name: Detroit Tigers\n",
      "division name AL West\n",
      "team name: Houston Astros\n",
      "team name: Los Angeles Angels\n",
      "team name: Seattle Mariners\n",
      "team name: Oakland Athletics\n",
      "team name: Texas Rangers\n"
     ]
    }
   ],
   "source": [
    "div = mlbgame.standings(date=datetime.datetime.now()).divisions\n",
    "\n",
    "for i in div:\n",
    "    print('division name', i.name)  #, 'division teams', i.teams)\n",
    "    for j in range(5):\n",
    "        print('team name:', i.teams[j].team_full)\n"
   ]
  },
  {
   "cell_type": "code",
   "execution_count": 57,
   "metadata": {},
   "outputs": [
    {
     "data": {
      "text/plain": [
       "'standings_schedule_date'"
      ]
     },
     "execution_count": 57,
     "metadata": {},
     "output_type": "execute_result"
    }
   ],
   "source": []
  },
  {
   "cell_type": "code",
   "execution_count": null,
   "metadata": {
    "collapsed": true
   },
   "outputs": [],
   "source": []
  },
  {
   "cell_type": "markdown",
   "metadata": {},
   "source": []
  }
 ],
 "metadata": {
  "kernelspec": {
   "display_name": "Python [conda root]",
   "language": "python",
   "name": "conda-root-py"
  },
  "language_info": {
   "codemirror_mode": {
    "name": "ipython",
    "version": 3
   },
   "file_extension": ".py",
   "mimetype": "text/x-python",
   "name": "python",
   "nbconvert_exporter": "python",
   "pygments_lexer": "ipython3",
   "version": "3.5.2"
  }
 },
 "nbformat": 4,
 "nbformat_minor": 2
}
